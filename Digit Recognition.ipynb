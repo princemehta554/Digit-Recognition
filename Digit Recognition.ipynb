{
 "cells": [
  {
   "cell_type": "code",
   "execution_count": 1,
   "metadata": {},
   "outputs": [
    {
     "name": "stderr",
     "output_type": "stream",
     "text": [
      "Using TensorFlow backend.\n"
     ]
    }
   ],
   "source": [
    "#importing necessary modules\n",
    "\n",
    "import tensorflow as tf\n",
    "import keras\n",
    "import numpy as np\n",
    "from tensorflow.examples.tutorials.mnist import input_data\n",
    "from matplotlib import pyplot as plt\n"
   ]
  },
  {
   "cell_type": "code",
   "execution_count": 19,
   "metadata": {},
   "outputs": [
    {
     "name": "stdout",
     "output_type": "stream",
     "text": [
      "Extracting MNIST_data/train-images-idx3-ubyte.gz\n",
      "Extracting MNIST_data/train-labels-idx1-ubyte.gz\n",
      "Extracting MNIST_data/t10k-images-idx3-ubyte.gz\n",
      "Extracting MNIST_data/t10k-labels-idx1-ubyte.gz\n"
     ]
    }
   ],
   "source": [
    "# importing dataset and y values (as one_hot encoded)\n",
    "mnist=input_data.read_data_sets(\"MNIST_data/\",one_hot=True)"
   ]
  },
  {
   "cell_type": "code",
   "execution_count": 3,
   "metadata": {},
   "outputs": [
    {
     "data": {
      "text/plain": [
       "((55000, 784), (55000, 784))"
      ]
     },
     "execution_count": 3,
     "metadata": {},
     "output_type": "execute_result"
    }
   ],
   "source": [
    "#checking the training  and testing data\n",
    "\n",
    "mnist.train.images.shape,mnist.train.images.shape\n"
   ]
  },
  {
   "cell_type": "code",
   "execution_count": 4,
   "metadata": {},
   "outputs": [
    {
     "data": {
      "image/png": "[encoded data removed]",
      "text/plain": [
       "<Figure size 432x288 with 1 Axes>"
      ]
     },
     "metadata": {
      "needs_background": "light"
     },
     "output_type": "display_data"
    }
   ],
   "source": [
    "#plotting a image\n",
    "\n",
    "first_image=mnist.train.images[3]\n",
    "first_image=np.array(first_image)\n",
    "first_image=first_image.reshape((28,28))\n",
    "plt.imshow(first_image)\n",
    "plt.show()"
   ]
  },
  {
   "cell_type": "code",
   "execution_count": 5,
   "metadata": {},
   "outputs": [],
   "source": [
    "#initializing number of units and number of hidden layers\n",
    "\n",
    "n_input=784\n",
    "h1_unit=1024\n",
    "h2_unit=1024\n",
    "#h3_unit=1024\n",
    "out_unit=10\n"
   ]
  },
  {
   "cell_type": "code",
   "execution_count": 6,
   "metadata": {},
   "outputs": [],
   "source": [
    "# initializing weights for all the layers\n",
    "\n",
    "weights={\n",
    "    'h1':tf.Variable(tf.random_normal([n_input,h1_unit])),\n",
    "    'h2':tf.Variable(tf.random_normal([h1_unit,h2_unit])),\n",
    "    #'h3':tf.Variable(tf.random_normal([h2_unit,h3_unit])),\n",
    "    'out':tf.Variable(tf.random_normal([h2_unit,out_unit]))\n",
    "}"
   ]
  },
  {
   "cell_type": "code",
   "execution_count": 7,
   "metadata": {},
   "outputs": [],
   "source": [
    "#initializing biases for all the layers\n",
    "\n",
    "biases={\n",
    "    'h1':tf.Variable(tf.random_normal([h1_unit])),\n",
    "    'h2':tf.Variable(tf.random_normal([h2_unit])),\n",
    "    #'h3':tf.Variable(tf.random_normal([h3_unit])),\n",
    "    'out':tf.Variable(tf.random_normal([out_unit]))\n",
    "}"
   ]
  },
  {
   "cell_type": "code",
   "execution_count": 8,
   "metadata": {},
   "outputs": [],
   "source": [
    "#code for forward propagation where we are getting output from the input,weights,biases\n",
    "\n",
    "def forward_propagation(x,weights,biases):\n",
    "    input_layer1=tf.add(tf.matmul(x,weights['h1']),biases['h1'])\n",
    "    output_layer1=tf.nn.relu(input_layer1)\n",
    "    \n",
    "    \n",
    "    input_layer2=tf.add(tf.matmul(output_layer1,weights['h2']),biases['h2'])\n",
    "    output_layer2=tf.nn.relu(input_layer2)\n",
    "    \n",
    "    #input_layer3=tf.add(tf.matmul(output_layer2,weights['h3']),biases['h3'])\n",
    "    #output_layer3=tf.nn.relu(input_layer3)\n",
    "    \n",
    "    #here activation function is relu\n",
    "    output=tf.add(tf.matmul(output_layer2,weights['out']),biases['out'])\n",
    "    \n",
    "    return output"
   ]
  },
  {
   "cell_type": "code",
   "execution_count": 9,
   "metadata": {},
   "outputs": [],
   "source": [
    "# defining x,y as tensorflow placeholder\n",
    "\n",
    "x=tf.placeholder(\"float\",[None,n_input])\n",
    "y=tf.placeholder(tf.int32,[None,out_unit])\n"
   ]
  },
  {
   "cell_type": "code",
   "execution_count": 10,
   "metadata": {},
   "outputs": [],
   "source": [
    "#getting the output from the initialized values\n",
    "\n",
    "pred=forward_propagation(x,weights,biases)"
   ]
  },
  {
   "cell_type": "code",
   "execution_count": 11,
   "metadata": {},
   "outputs": [],
   "source": [
    "# predicting the digit by taking the index of the max_value and finding the correct_labels\n",
    "\n",
    "prediction=tf.argmax(pred,1)\n",
    "true_labels=tf.argmax(y,1)\n",
    "correct_labels = tf.equal(prediction,true_labels)"
   ]
  },
  {
   "cell_type": "code",
   "execution_count": 20,
   "metadata": {},
   "outputs": [],
   "source": [
    "# defining the cost and optimizer based on the predictions and actual_labels using cross-entropy function and Adam optimizer\n",
    "\n",
    "cost=tf.reduce_mean(tf.nn.softmax_cross_entropy_with_logits(logits=pred,labels=y))\n",
    "optimizer=tf.train.AdamOptimizer(learning_rate=0.01)\n",
    "optimize=optimizer.minimize(cost)"
   ]
  },
  {
   "cell_type": "code",
   "execution_count": 13,
   "metadata": {},
   "outputs": [],
   "source": [
    "# initializing tensorflow session and variables\n",
    "\n",
    "sess=tf.Session()\n",
    "sess.run(tf.global_variables_initializer())\n"
   ]
  },
  {
   "cell_type": "code",
   "execution_count": 14,
   "metadata": {},
   "outputs": [
    {
     "name": "stdout",
     "output_type": "stream",
     "text": [
      "112857.65320205688\n",
      "16495.8506823653\n",
      "10180.408734896639\n",
      "7435.993866468626\n",
      "5188.3811212669625\n",
      "5472.610112154402\n",
      "5365.099488924004\n",
      "4054.917836731376\n",
      "3234.9046839749844\n",
      "3974.5846232845333\n",
      "2980.4644537619806\n",
      "3119.755534766165\n",
      "2500.2023965716958\n",
      "2229.8873982303094\n",
      "2248.26427572449\n",
      "2339.4791803532\n",
      "2331.543848417154\n",
      "1589.0537672543144\n",
      "1551.8138735732641\n",
      "1936.5359497629736\n",
      "1253.923818442218\n",
      "1707.2216033873624\n",
      "1135.8297762663333\n",
      "1305.523528631239\n",
      "1413.65942113764\n"
     ]
    }
   ],
   "source": [
    "# Running the optimizer for multiple iteration to optimize the cost and training weights on train data in batches\n",
    "batch_size=100\n",
    "for i in range(25):\n",
    "    num_batches=int(mnist.train.num_examples/batch_size)\n",
    "    total_cost=0\n",
    "    for j in range(num_batches):\n",
    "        batch_x,batch_y=mnist.train.next_batch(batch_size)\n",
    "        c,_=sess.run([cost,optimize],feed_dict={x:batch_x,y:batch_y})\n",
    "        total_cost+=c\n",
    "    print(total_cost)"
   ]
  },
  {
   "cell_type": "code",
   "execution_count": 15,
   "metadata": {},
   "outputs": [],
   "source": [
    "# Running the optimizer for multiple iteration to optimize the cost and training weights on train data\n",
    "\n",
    "#for i in range(25):\n",
    "   # c,_=sess.run([cost,optimize] , feed_dict = {\n",
    "    #x:mnist.train.images,\n",
    "    #y:mnist.train.labels\n",
    "    #} )\n",
    "    #pred=forward_propagation(x,weights,biases)\n",
    "    \n",
    "    #prediction=tf.argmax(pred,1)\n",
    "    #true_labels=tf.argmax(y,1)\n",
    "    #correct_labels = tf.equal(prediction,true_labels)\n",
    "    \n",
    "    #my_digits,true_digits,pred_eval=sess.run([prediction,true_labels,correct_labels] , feed_dict = {\n",
    "    #x:mnist.train.images,\n",
    "    #y:mnist.train.labels\n",
    "    #} )\n",
    "    #print(100*(pred_eval.sum()/mnist.train.images.shape[0]))\n"
   ]
  },
  {
   "cell_type": "code",
   "execution_count": 16,
   "metadata": {},
   "outputs": [
    {
     "data": {
      "text/plain": [
       "0.9711"
      ]
     },
     "execution_count": 16,
     "metadata": {},
     "output_type": "execute_result"
    }
   ],
   "source": [
    "# Finding the predictions and accuracy on the test data\n",
    "\n",
    "pred=forward_propagation(x,weights,biases)\n",
    "prediction=tf.argmax(pred,1)\n",
    "true_labels=tf.argmax(y,1)\n",
    "correct_labels = tf.equal(prediction,true_labels)\n",
    "my_digits,true_digits,pred_eval=sess.run([prediction,true_labels,correct_labels] , feed_dict = {\n",
    "    x:mnist.test.images,\n",
    "    y:mnist.test.labels\n",
    "    } )\n",
    "pred_eval.sum()/mnist.test.images.shape[0]"
   ]
  },
  {
   "cell_type": "code",
   "execution_count": 17,
   "metadata": {},
   "outputs": [
    {
     "data": {
      "image/png": "[encoded data removed]",
      "text/plain": [
       "<Figure size 432x288 with 1 Axes>"
      ]
     },
     "metadata": {
      "needs_background": "light"
     },
     "output_type": "display_data"
    }
   ],
   "source": [
    "#plotting a testing image from the test data \n",
    "\n",
    "first_image=mnist.test.images[58]\n",
    "first_image=np.array(first_image)\n",
    "first_image=first_image.reshape((28,28))\n",
    "plt.imshow(first_image)\n",
    "plt.show()\n"
   ]
  },
  {
   "cell_type": "code",
   "execution_count": 18,
   "metadata": {},
   "outputs": [
    {
     "data": {
      "text/plain": [
       "9"
      ]
     },
     "execution_count": 18,
     "metadata": {},
     "output_type": "execute_result"
    }
   ],
   "source": [
    "#checking the above image value from the predicitions of our neural network\n",
    "my_digits[58]"
   ]
  },
  {
   "cell_type": "code",
   "execution_count": null,
   "metadata": {},
   "outputs": [],
   "source": []
  }
 ],
 "metadata": {
  "kernelspec": {
   "display_name": "Python 3",
   "language": "python",
   "name": "python3"
  },
  "language_info": {
   "codemirror_mode": {
    "name": "ipython",
    "version": 3
   },
   "file_extension": ".py",
   "mimetype": "text/x-python",
   "name": "python",
   "nbconvert_exporter": "python",
   "pygments_lexer": "ipython3",
   "version": "3.7.6"
  }
 },
 "nbformat": 4,
 "nbformat_minor": 2
}
