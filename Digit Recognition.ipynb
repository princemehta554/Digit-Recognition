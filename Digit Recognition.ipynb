{
 "cells": [
  {
   "cell_type": "code",
   "execution_count": 1,
   "metadata": {},
   "outputs": [
    {
     "name": "stderr",
     "output_type": "stream",
     "text": [
      "Using TensorFlow backend.\n"
     ]
    }
   ],
   "source": [
    "#importing necessary modules\n",
    "\n",
    "import tensorflow as tf\n",
    "import keras\n",
    "import numpy as np\n",
    "from tensorflow.examples.tutorials.mnist import input_data\n",
    "from matplotlib import pyplot as plt\n"
   ]
  },
  {
   "cell_type": "code",
   "execution_count": 2,
   "metadata": {},
   "outputs": [
    {
     "name": "stdout",
     "output_type": "stream",
     "text": [
      "WARNING:tensorflow:From <ipython-input-2-a1b9dee2b48a>:2: read_data_sets (from tensorflow.contrib.learn.python.learn.datasets.mnist) is deprecated and will be removed in a future version.\n",
      "Instructions for updating:\n",
      "Please use alternatives such as official/mnist/dataset.py from tensorflow/models.\n",
      "WARNING:tensorflow:From C:\\Users\\prince\\Anaconda3\\lib\\site-packages\\tensorflow_core\\contrib\\learn\\python\\learn\\datasets\\mnist.py:260: maybe_download (from tensorflow.contrib.learn.python.learn.datasets.base) is deprecated and will be removed in a future version.\n",
      "Instructions for updating:\n",
      "Please write your own downloading logic.\n",
      "WARNING:tensorflow:From C:\\Users\\prince\\Anaconda3\\lib\\site-packages\\tensorflow_core\\contrib\\learn\\python\\learn\\datasets\\mnist.py:262: extract_images (from tensorflow.contrib.learn.python.learn.datasets.mnist) is deprecated and will be removed in a future version.\n",
      "Instructions for updating:\n",
      "Please use tf.data to implement this functionality.\n",
      "Extracting MNIST_data/train-images-idx3-ubyte.gz\n",
      "WARNING:tensorflow:From C:\\Users\\prince\\Anaconda3\\lib\\site-packages\\tensorflow_core\\contrib\\learn\\python\\learn\\datasets\\mnist.py:267: extract_labels (from tensorflow.contrib.learn.python.learn.datasets.mnist) is deprecated and will be removed in a future version.\n",
      "Instructions for updating:\n",
      "Please use tf.data to implement this functionality.\n",
      "Extracting MNIST_data/train-labels-idx1-ubyte.gz\n",
      "WARNING:tensorflow:From C:\\Users\\prince\\Anaconda3\\lib\\site-packages\\tensorflow_core\\contrib\\learn\\python\\learn\\datasets\\mnist.py:110: dense_to_one_hot (from tensorflow.contrib.learn.python.learn.datasets.mnist) is deprecated and will be removed in a future version.\n",
      "Instructions for updating:\n",
      "Please use tf.one_hot on tensors.\n",
      "Extracting MNIST_data/t10k-images-idx3-ubyte.gz\n",
      "Extracting MNIST_data/t10k-labels-idx1-ubyte.gz\n",
      "WARNING:tensorflow:From C:\\Users\\prince\\Anaconda3\\lib\\site-packages\\tensorflow_core\\contrib\\learn\\python\\learn\\datasets\\mnist.py:290: DataSet.__init__ (from tensorflow.contrib.learn.python.learn.datasets.mnist) is deprecated and will be removed in a future version.\n",
      "Instructions for updating:\n",
      "Please use alternatives such as official/mnist/dataset.py from tensorflow/models.\n"
     ]
    }
   ],
   "source": [
    "# importing dataset and y values (as one_hot encoded)\n",
    "mnist=input_data.read_data_sets(\"MNIST_data/\",one_hot=True)"
   ]
  },
  {
   "cell_type": "code",
   "execution_count": 3,
   "metadata": {},
   "outputs": [
    {
     "data": {
      "text/plain": [
       "((55000, 784), (55000, 784))"
      ]
     },
     "execution_count": 3,
     "metadata": {},
     "output_type": "execute_result"
    }
   ],
   "source": [
    "#checking the training  and testing data\n",
    "\n",
    "mnist.train.images.shape,mnist.train.images.shape\n"
   ]
  },
  {
   "cell_type": "code",
   "execution_count": 4,
   "metadata": {},
   "outputs": [
    {
     "data": {
      "image/png": "[encoded data removed]",
      "text/plain": [
       "<Figure size 432x288 with 1 Axes>"
      ]
     },
     "metadata": {
      "needs_background": "light"
     },
     "output_type": "display_data"
    }
   ],
   "source": [
    "#plotting a image\n",
    "\n",
    "first_image=mnist.train.images[3]\n",
    "first_image=np.array(first_image)\n",
    "first_image=first_image.reshape((28,28))\n",
    "plt.imshow(first_image)\n",
    "plt.show()"
   ]
  },
  {
   "cell_type": "code",
   "execution_count": 5,
   "metadata": {},
   "outputs": [],
   "source": [
    "#initializing number of units and number of hidden layers\n",
    "\n",
    "n_input=784\n",
    "h1_unit=1024\n",
    "h2_unit=1024\n",
    "h3_unit=1024\n",
    "out_unit=10\n"
   ]
  },
  {
   "cell_type": "code",
   "execution_count": 6,
   "metadata": {},
   "outputs": [],
   "source": [
    "# initializing weights for all the layers\n",
    "\n",
    "weights={\n",
    "    'h1':tf.Variable(tf.random_normal([n_input,h1_unit])),\n",
    "    'h2':tf.Variable(tf.random_normal([h1_unit,h2_unit])),\n",
    "    'h3':tf.Variable(tf.random_normal([h2_unit,h3_unit])),\n",
    "    'out':tf.Variable(tf.random_normal([h3_unit,out_unit]))\n",
    "}"
   ]
  },
  {
   "cell_type": "code",
   "execution_count": 7,
   "metadata": {},
   "outputs": [],
   "source": [
    "#initializing biases for all the layers\n",
    "\n",
    "biases={\n",
    "    'h1':tf.Variable(tf.random_normal([h1_unit])),\n",
    "    'h2':tf.Variable(tf.random_normal([h2_unit])),\n",
    "    'h3':tf.Variable(tf.random_normal([h3_unit])),\n",
    "    'out':tf.Variable(tf.random_normal([out_unit]))\n",
    "}"
   ]
  },
  {
   "cell_type": "code",
   "execution_count": 8,
   "metadata": {},
   "outputs": [],
   "source": [
    "#code for forward propagation where we are getting output from the input,weights,biases\n",
    "\n",
    "def forward_propagation(x,weights,biases):\n",
    "    input_layer1=tf.add(tf.matmul(x,weights['h1']),biases['h1'])\n",
    "    output_layer1=tf.nn.relu(input_layer1)\n",
    "    \n",
    "    \n",
    "    input_layer2=tf.add(tf.matmul(output_layer1,weights['h2']),biases['h2'])\n",
    "    output_layer2=tf.nn.relu(input_layer2)\n",
    "    \n",
    "    input_layer3=tf.add(tf.matmul(output_layer2,weights['h3']),biases['h3'])\n",
    "    output_layer3=tf.nn.relu(input_layer3)\n",
    "    \n",
    "    #here activation function is relu\n",
    "    output=tf.add(tf.matmul(output_layer3,weights['out']),biases['out'])\n",
    "    \n",
    "    return output"
   ]
  },
  {
   "cell_type": "code",
   "execution_count": 9,
   "metadata": {},
   "outputs": [],
   "source": [
    "# defining x,y as tensorflow placeholder\n",
    "\n",
    "x=tf.placeholder(\"float\",[None,n_input])\n",
    "y=tf.placeholder(tf.int32,[None,out_unit])\n"
   ]
  },
  {
   "cell_type": "code",
   "execution_count": 10,
   "metadata": {},
   "outputs": [],
   "source": [
    "#getting the output from the initialized values\n",
    "\n",
    "pred=forward_propagation(x,weights,biases)"
   ]
  },
  {
   "cell_type": "code",
   "execution_count": 11,
   "metadata": {},
   "outputs": [],
   "source": [
    "# predicting the digit by taking the index of the max_value and finding the correct_labels\n",
    "\n",
    "prediction=tf.argmax(pred,1)\n",
    "true_labels=tf.argmax(y,1)\n",
    "correct_labels = tf.equal(prediction,true_labels)"
   ]
  },
  {
   "cell_type": "code",
   "execution_count": 12,
   "metadata": {},
   "outputs": [
    {
     "name": "stdout",
     "output_type": "stream",
     "text": [
      "WARNING:tensorflow:From <ipython-input-12-e4bcb3f00de0>:3: softmax_cross_entropy_with_logits (from tensorflow.python.ops.nn_ops) is deprecated and will be removed in a future version.\n",
      "Instructions for updating:\n",
      "\n",
      "Future major versions of TensorFlow will allow gradients to flow\n",
      "into the labels input on backprop by default.\n",
      "\n",
      "See `tf.nn.softmax_cross_entropy_with_logits_v2`.\n",
      "\n"
     ]
    }
   ],
   "source": [
    "# defining the cost and optimizer based on the predictions and actual_labels using cross-entropy function and Adam optimizer\n",
    "\n",
    "cost=tf.reduce_mean(tf.nn.softmax_cross_entropy_with_logits(logits=pred,labels=y))\n",
    "optimizer=tf.train.AdamOptimizer(learning_rate=0.01)\n",
    "optimize=optimizer.minimize(cost)"
   ]
  },
  {
   "cell_type": "code",
   "execution_count": 13,
   "metadata": {},
   "outputs": [],
   "source": [
    "# initializing tensorflow session and variables\n",
    "\n",
    "sess=tf.Session()\n",
    "sess.run(tf.global_variables_initializer())\n"
   ]
  },
  {
   "cell_type": "code",
   "execution_count": null,
   "metadata": {},
   "outputs": [
    {
     "name": "stdout",
     "output_type": "stream",
     "text": [
      "32.25454545454545\n",
      "39.769090909090906\n",
      "55.29272727272727\n",
      "53.69818181818182\n",
      "61.843636363636364\n",
      "72.26\n",
      "75.09636363636363\n",
      "70.04727272727273\n",
      "66.60181818181819\n",
      "67.95818181818181\n",
      "71.74727272727273\n",
      "78.00545454545454\n",
      "82.23636363636363\n",
      "84.51272727272728\n"
     ]
    }
   ],
   "source": [
    "# Running the optimizer for multiple iteration to optimize the cost and training weights on train data\n",
    "\n",
    "for i in range(25):\n",
    "    c,_=sess.run([cost,optimize] , feed_dict = {\n",
    "    x:mnist.train.images,\n",
    "    y:mnist.train.labels\n",
    "    } )\n",
    "    pred=forward_propagation(x,weights,biases)\n",
    "    \n",
    "    prediction=tf.argmax(pred,1)\n",
    "    true_labels=tf.argmax(y,1)\n",
    "    correct_labels = tf.equal(prediction,true_labels)\n",
    "    \n",
    "    my_digits,true_digits,pred_eval=sess.run([prediction,true_labels,correct_labels] , feed_dict = {\n",
    "    x:mnist.train.images,\n",
    "    y:mnist.train.labels\n",
    "    } )\n",
    "    print(100*(pred_eval.sum()/mnist.train.images.shape[0]))\n"
   ]
  },
  {
   "cell_type": "code",
   "execution_count": null,
   "metadata": {},
   "outputs": [],
   "source": [
    "# Finding the predictions and accuracy on the test data\n",
    "\n",
    "pred=forward_propagation(x,weights,biases)\n",
    "prediction=tf.argmax(pred,1)\n",
    "true_labels=tf.argmax(y,1)\n",
    "correct_labels = tf.equal(prediction,true_labels)\n",
    "my_digits,true_digits,pred_eval=sess.run([prediction,true_labels,correct_labels] , feed_dict = {\n",
    "    x:mnist.test.images,\n",
    "    y:mnist.test.labels\n",
    "    } )\n",
    "pred_eval.sum()/mnist.test.images.shape[0]"
   ]
  },
  {
   "cell_type": "code",
   "execution_count": null,
   "metadata": {},
   "outputs": [],
   "source": [
    "#plotting a testing image from the test data \n",
    "\n",
    "first_image=mnist.test.images[58]\n",
    "first_image=np.array(first_image)\n",
    "first_image=first_image.reshape((28,28))\n",
    "plt.imshow(first_image)\n",
    "plt.show()\n"
   ]
  },
  {
   "cell_type": "code",
   "execution_count": null,
   "metadata": {},
   "outputs": [],
   "source": [
    "#checking the above image value from the predicitions of our neural network\n",
    "my_digits[58]"
   ]
  },
  {
   "cell_type": "code",
   "execution_count": null,
   "metadata": {},
   "outputs": [],
   "source": []
  }
 ],
 "metadata": {
  "kernelspec": {
   "display_name": "Python 3",
   "language": "python",
   "name": "python3"
  },
  "language_info": {
   "codemirror_mode": {
    "name": "ipython",
    "version": 3
   },
   "file_extension": ".py",
   "mimetype": "text/x-python",
   "name": "python",
   "nbconvert_exporter": "python",
   "pygments_lexer": "ipython3",
   "version": "3.7.6"
  }
 },
 "nbformat": 4,
 "nbformat_minor": 2
}
